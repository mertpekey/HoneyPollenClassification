{
 "cells": [
  {
   "attachments": {},
   "cell_type": "markdown",
   "metadata": {},
   "source": [
    "### Libraries"
   ]
  },
  {
   "cell_type": "code",
   "execution_count": 30,
   "metadata": {},
   "outputs": [],
   "source": [
    "import torch\n",
    "import torch.nn as nn\n",
    "import torchvision\n",
    "import torchvision.transforms as transform\n",
    "import torch.nn.functional as F\n",
    "from torch.utils.data import Dataset, DataLoader\n",
    "\n",
    "import os\n",
    "\n",
    "import pandas as pd\n",
    "import matplotlib.pyplot as plt\n",
    "import seaborn as sns\n",
    "import numpy as np"
   ]
  },
  {
   "attachments": {},
   "cell_type": "markdown",
   "metadata": {},
   "source": [
    "### Dummy Data"
   ]
  },
  {
   "cell_type": "code",
   "execution_count": 25,
   "metadata": {},
   "outputs": [],
   "source": [
    "img_size = (8,8)\n",
    "\n",
    "X = torch.randint(0, 255, (16,3,16,16)).to(torch.float32)\n",
    "y = torch.randint(0,4,(1,1,16)).to(torch.float32)"
   ]
  },
  {
   "cell_type": "code",
   "execution_count": 26,
   "metadata": {},
   "outputs": [],
   "source": [
    "def get_normalization_params(dataset): ## Tum dataset olarak degistir\n",
    "\n",
    "    X, y = dataset\n",
    "    means = []\n",
    "    stdevs = []\n",
    "    # Better Way\n",
    "    n_channels = X.shape[1]\n",
    "    for c in range(n_channels):\n",
    "        mean = torch.mean(X[:, c])\n",
    "        std = torch.std(X[:, c])\n",
    "\n",
    "        means.append(mean)\n",
    "        stdevs.append(std)\n",
    "\n",
    "    return means, stdevs\n",
    "\n",
    "data_mean, data_std = get_normalization_params((X,y))\n",
    "        "
   ]
  },
  {
   "cell_type": "code",
   "execution_count": 33,
   "metadata": {},
   "outputs": [],
   "source": [
    "data_transform = transform.Compose([\n",
    "    transform.ToPILImage(),\n",
    "    transform.Resize(img_size),\n",
    "    transform.ToTensor(),\n",
    "    transform.Normalize(data_mean, data_std)\n",
    "])"
   ]
  },
  {
   "cell_type": "code",
   "execution_count": null,
   "metadata": {},
   "outputs": [],
   "source": []
  }
 ],
 "metadata": {
  "kernelspec": {
   "display_name": "Python 3",
   "language": "python",
   "name": "python3"
  },
  "language_info": {
   "codemirror_mode": {
    "name": "ipython",
    "version": 3
   },
   "file_extension": ".py",
   "mimetype": "text/x-python",
   "name": "python",
   "nbconvert_exporter": "python",
   "pygments_lexer": "ipython3",
   "version": "3.9.0"
  },
  "orig_nbformat": 4,
  "vscode": {
   "interpreter": {
    "hash": "aee8b7b246df8f9039afb4144a1f6fd8d2ca17a180786b69acc140d282b71a49"
   }
  }
 },
 "nbformat": 4,
 "nbformat_minor": 2
}
