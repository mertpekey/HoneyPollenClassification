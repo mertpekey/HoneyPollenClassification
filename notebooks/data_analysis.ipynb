{
 "cells": [
  {
   "cell_type": "code",
   "execution_count": 13,
   "metadata": {},
   "outputs": [],
   "source": [
    "import torch\n",
    "import torch.nn as nn\n",
    "import torchvision\n",
    "import torchvision.transforms as T\n",
    "import torch.nn.functional as F\n",
    "from torch.utils.data import Dataset, DataLoader\n",
    "from PIL import Image\n",
    "import os\n",
    "\n",
    "import pandas as pd\n",
    "import matplotlib.pyplot as plt\n",
    "import seaborn as sns\n",
    "import numpy as np\n",
    "import math"
   ]
  },
  {
   "cell_type": "markdown",
   "metadata": {},
   "source": [
    "## Dataset"
   ]
  },
  {
   "cell_type": "code",
   "execution_count": 14,
   "metadata": {},
   "outputs": [],
   "source": [
    "DATA_ROOT = '/Users/mpekey/Desktop/Mert_SabanciUniv/CS518/HoneyPollenClassification/dataset_resized'"
   ]
  },
  {
   "cell_type": "code",
   "execution_count": 8,
   "metadata": {},
   "outputs": [],
   "source": [
    "def get_pollen_family(pollen_type):\n",
    "\n",
    "    if pollen_type in ['Acanthus dioscoridis', 'Acanthus sp']:\n",
    "        return 'Acanthaceae'\n",
    "    elif pollen_type in ['Sambucus ebulus', 'Sambucus nigra', 'Viburnum lantana','Viburnum lanata']:\n",
    "        return 'Adoxaceae'\n",
    "    elif pollen_type in ['Chenopodium foliosum','Amaranthaceae sp']:\n",
    "        return 'Amaranthaceae'\n",
    "    elif pollen_type in ['Allium rotundum', 'Allium ampeloprasum', 'Allium sp']:\n",
    "        return 'Amaryllidaceae'\n",
    "    elif pollen_type in ['Cotinus coggygria', 'Rhus coriaria', 'Rhus sp']:\n",
    "        return 'Anacardiaceae'\n",
    "    elif pollen_type in ['Eryngium campestre', 'Ferula orientalis', 'Malabaila lasiocarpa', 'Lecokia cretica', 'Pimpinella sp','Apiaceae sp']:\n",
    "        return 'Apiaceae'\n",
    "    elif pollen_type in ['Leopoldia tenuiflora','Ornithogalum narbonense','Muscari tenuifolium']:\n",
    "        return 'Asparagaceae'\n",
    "    elif pollen_type in ['Gundelia sp','Circium arvense','Centaurea urvellei','Cardus','Matricaria chamomila','Scorzonera latifolia','Asteraceae sp','Artemisia absinthium','Achillea arabica', 'Achilla arabica', 'Achillea millefolium', 'Achillea vermicularis','Anthemis cretica','Arctium minus','Arctium minus','Bellis perennis',\n",
    "    'Carduus nutans','Centaurea bingoelensis','Centaurea iberica','Centaurea kurdica','Centaurea saligna','Centaurea solstitialis','Centaurea spectabilis',\n",
    "    'Centaurea urvillei','Centaurea virgata','Chondrilla brevirostris','Chondrilla juncea','Cichorium intybus','Cirsium arvense','Cirsium yildizianum',\n",
    "    'Cota altissima','Crepis sancta','Cyanus triumfettii','Echinops pungens','Gundelia tournefortii','Helichrysum arenarium','Helichrysum plicatum',\n",
    "    'Iranecio eriospermus','Senecio eriospermus','Matricaria chamomilla','Onopordum acanthium','Onopordum acanthium','Tanacetum balsamita','Tanacetum zahlbruckneri',\n",
    "    'Taraxacum campylodes','Taraxacum officinale','Tussilago farfara','Xeranthemum annuum','Xeranthemum longipapposum','Artemisia sp','Carduus sp','Centaurea sp',\n",
    "    'Cichorium sp','Cirsium sp','Cirsium yildizianum','Echinops sp','Echinops sp','Helianthus sp','Helichrysum sp','Onopordum sp','Ptilostemon sp','Xanthium sp','Xeranthemum sp','Xeranthemum longipopposum','Xeranthemum annum']:\n",
    "        return 'Asteraceae'\n",
    "    elif pollen_type in ['Alkanna orientalis','Anchusa azurea','Anchusa leptophylla','Cerinthe minor','Echium italicum','Myosotis alpestris','Myosotis laxa','Myosotis stricta','Myosotis sylvatica','cyanea','Phyllocara aucheri','Anchusa sp','Echium sp']:\n",
    "        return 'Boraginaceae'\n",
    "    elif pollen_type in ['Capsella bursa pastoris','Aethionema grandiflorum', 'Capsella bursa-pastoris', 'Isatis glauca','Lepidium draba','Raphanus raphanistrum']:\n",
    "        return 'Brassicaceae'\n",
    "    elif pollen_type in ['Campanula glomerata','Campanula involucrata', 'Campanula propinqua','Campanula stricta', 'stricta', 'Campanula sp']:\n",
    "        return 'Campanulaceae'\n",
    "    elif pollen_type in ['Centranthus longifolius','Centranthus longiflorus', 'Morina persica', 'Scabiosa columbaria', 'Scabiosa rotata', 'Cephalaria sp', 'Scabiosa sp', 'Valeriana sp']:\n",
    "        return 'Caprifoliaceae'\n",
    "    elif pollen_type in ['Cerastium armeniacum', 'Saponaria prostrata', 'Saponaria viscosa', 'Saponaria viscosa', 'Silene spergulifolia','Dianthus sp','Silene sp','Silene compacta']:\n",
    "        return 'Caryophyllaceae'\n",
    "    elif pollen_type in ['Chenopodium sp']:\n",
    "        return 'Chenopodiaceae'\n",
    "    elif pollen_type in ['Convolvulus arvensis', 'Convolvulus galaticus', 'Convolvulus lineatus', 'Convolvulus sp']:\n",
    "        return 'Convolvulaceae'\n",
    "    elif pollen_type in ['Cornus sanguinea']:\n",
    "        return 'Cornaceae'\n",
    "    elif pollen_type in ['Phedimus obtusifolius']:\n",
    "        return 'Crassulaceae'\n",
    "    elif pollen_type in ['Elaeagnus angustifolia']:\n",
    "        return 'Elaeagnaceae'\n",
    "    elif pollen_type in ['Euphorbia esula','tommasiniana', 'Euphorbia macrocarpa', 'Euphorbia sp']:\n",
    "        return 'Euphorbiaceae'\n",
    "    elif pollen_type in ['Glycyrrhiza glabra','Astragalus topolanense','Astragalus sp','Astragalus pinetorium','Astragalus lagopoides','Securigera varia','Astracantha gummifera','Trifolium campestre-yeniden','Astragalus gummifer','Astracantha kurdica','Astragalus kurdicus','Astracantha muschiana','Astragalus muschianus','Astragalus aduncus','Astragalus bingollensis','Astragalus bustillosii','Astragalus brachycalyx','brachycalyx','Astragalus caspicus','Astrgalus lagopoides','Astrgalus lagopoides Lam','Astragalus onobrychis','Astragalus oocephalus','Astragalus pinetorum','Astragalus saganlugensis','Astragalus topalanense','Colutea cilicica','Genista aucheri','Genista aucheri','Lathyrus brachypterus','Lathyrus satdaghensis','Lotus corniculatus','Lotus gebelia','Hedysarum varium','Medicago sativa','Melilotus albus','Melilotus officinalis','Onobrychis viciifolia','Ononis spinosa','Robinia pseudoacacia','Robinia pseudoacacia','Trifolium campestre','Trifolium diffusum','Trifolium nigrescens','Trifolium pauciflorum','Trifolium pratense','Trifolium resupinatum','Vicia cracca','cracca','Astragalus gummifer','Astragalus longifolius','Astragalus topalanense','Astragalus spp','Coronilla sp','Hedysarum sp','Lathyrus sp','Lotus sp','Melilotus sp','Trifolium spp','Vicia sp']:\n",
    "        return 'Fabaceae'\n",
    "    elif pollen_type in ['Quercus petraea', 'pinnatiloba']:\n",
    "        return 'Fagaceae'\n",
    "    elif pollen_type in ['Geranium tuberosum', 'Geranium sp']:\n",
    "        return 'Geraniaceae'\n",
    "    elif pollen_type in ['Hypericum sp','Hypericum lydium', 'Hypericum perforatum','Hypericum scabrum','Hypericum spp']:\n",
    "        return 'Hypericaceae'\n",
    "    elif pollen_type in ['Ixiolirion tataricum']:\n",
    "        return 'Ixioliriaceae'\n",
    "    elif pollen_type in ['Marrubium astracanium','Salvia palestina','Ajuga chamaepitys','chia','Lamium album','Lamium garganicum','Lamium macrodon','Marrubium astracanicum','Marrubium vulgare','Mentha longifolia','longifolia','Mentha spicata','Nepeta baytopii','Nepeta cataria','Nepeta nuda','Nepeta trachonitica','Origanum acutidens','Origanum vulgare','gracile','Phlomis armeniaca','Phlomis herba-venti','pungens','Phlomis pungens','Phlomis kurdica','Salvia frigida','Salvia limbata','Salvia macrochlamys','Salvia multicaulis','Salvia palaestina','Salvia sclarea','Salvia staminea','Salvia trichoclada','Salvia verticillata','Salvia virgata','Satureja hortensis','Stachys annua','Stachys lavandulifolia','Teucrium chamaedrys','Teucrium orientale','Teucrium orientale','Teucrium polium','Thymus kotschyanus','Thymus pubescens','Lamium macrodon','Lamium sp','Origanum sp','Phlomis sp','Teucrium sp','Thymus spp']:\n",
    "        return 'Lamiaceae'\n",
    "    elif pollen_type in ['Linum mucronatum','armenum']:\n",
    "        return 'Linaceae'\n",
    "    elif pollen_type in ['Lythrum salicaria']:\n",
    "        return 'Lythraceae'\n",
    "    elif pollen_type in ['Malvaceae','Alcea apterocarpa','Alcea remotiflora','Malva neglecta','Alcea sp','Malva sp','Tilia sp']:\n",
    "        return 'Malvaceae'\n",
    "    elif pollen_type in ['Morus alba']:\n",
    "        return 'Moraceae'\n",
    "    elif pollen_type in ['Epilobium parviflorum']:\n",
    "        return 'Onagraceae'\n",
    "    elif pollen_type in ['Fumaria parviflora','Fumaria schleicheri','microcarpa','Papaver dubium','Papaver orientale']:\n",
    "        return 'Papaveraceae'\n",
    "    elif pollen_type in ['Anarrhinum orientale','Anarhinum orientale','Globularia trichosantha','Lagotis stolonifera','Linaria pyramidata','Plantago lanceolata','Plantago major','Plantago media','Linaria sp']:\n",
    "        return 'Plantaginaceae'\n",
    "    elif pollen_type in ['Acantholimon acerosum','Acantholimon armenum','Acantholimon calvertii','Acantholimon sp']:\n",
    "        return 'Plumbaginaceae'\n",
    "    elif pollen_type in ['Poaceae','Zea mays']:\n",
    "        return 'Poaceae'\n",
    "    elif pollen_type in ['Polygonum cognatum','Rheum ribes','Rumex acetosella','Rumex scutatus','Rumex sp']:\n",
    "        return 'Polygonaceae'\n",
    "    elif pollen_type in ['Lysimachia punctata', 'Lysimacha vulgaris']:\n",
    "        return 'Primulaceae'\n",
    "    elif pollen_type in ['Portulaca sp']:\n",
    "        return 'Portulacaceae'\n",
    "    elif pollen_type in ['Ranunculus kotchii','Ficaria fascicularis','Ranunculus kochii','Ranunculus heterorrhizus','Ranunculus kotschyi','Ranunculus sp']:\n",
    "        return 'Ranunculaceae'\n",
    "    elif pollen_type in ['Paliurus spina-christi']:\n",
    "        return 'Rhamnaceae'\n",
    "    elif pollen_type in ['Crateagus orientalis','Crateagus monogyna','Potentilla inclinata','Rosaceae','Sanguisorba minör','Sanguisorba min”r','Agrimonia repens','Cotoneaster nummularius','Crataegus orientalis','Crataegus monogyna','Filipendula ulmaria','Malus sylvestris','Potentilla anatolica','Potentilla argentea','Prunus divaricata','ursina','Pyrus elaeagnifolia','Rosa canina','Rosa foetida','Rubus caesius','Rubus sanctus','Sanguisorba minor','lasiocarpa','Sorbus torminalis','Filipendula sp','Potentilla sp','Rosa canina']:\n",
    "        return 'Rosaceae'\n",
    "    elif pollen_type in ['Galium consanguineum','Galium verum','Galium sp']:\n",
    "        return 'Rubiaceae'\n",
    "    elif pollen_type in ['Citrus sp']:\n",
    "        return 'Rutaceae'\n",
    "    elif pollen_type in ['Salix alba','Salix caprea','Salix sp']:\n",
    "        return 'Salicaceae'\n",
    "    elif pollen_type in ['Verbascum armenum','Verbascum diversifolium','Verbascum gimgimense','Verbascum lasianthum','Verbascum sinuatum','Verbascum spp','Verbascum sinatum']:\n",
    "        return 'Scrophulariaceae'\n",
    "    elif pollen_type in ['Tamarix smyrnensis','Tamarix tetrandra']:\n",
    "        return 'Tamaricaceae'\n",
    "    elif pollen_type in ['Eremurus spectabilis','Eremurus sp']:\n",
    "        return 'Xanthorrhoeaceae'\n",
    "    elif pollen_type in ['Tribulus terrestris']:\n",
    "        return 'Zygophyllaceae'\n",
    "    else:\n",
    "        return 'notfound'"
   ]
  },
  {
   "cell_type": "code",
   "execution_count": 9,
   "metadata": {},
   "outputs": [],
   "source": [
    "def get_dataset_roots(dir_path):\n",
    "\n",
    "    class_dict = {}\n",
    "    \n",
    "    for dirpath, dirnames, filenames in os.walk(dir_path):\n",
    "        class_name = dirpath.split('/')[-1]\n",
    "        if class_name != 'dataset_resized':\n",
    "            for filename in os.listdir(dirpath):\n",
    "                class_dict[os.path.join(dir_path, class_name, filename)] = class_name\n",
    "                \n",
    "    data_dict = pd.DataFrame({'img_file':list(class_dict.keys()), 'type':list(class_dict.values())})\n",
    "    data_dict['family'] = data_dict['type'].apply(get_pollen_family)\n",
    "    return data_dict"
   ]
  },
  {
   "cell_type": "code",
   "execution_count": 15,
   "metadata": {},
   "outputs": [],
   "source": [
    "def split_datasets(pollen_df, class_amt_df, label_name = 'type'):\n",
    "\n",
    "    class_names = pollen_df[label_name].unique()\n",
    "\n",
    "    first_check = True\n",
    "\n",
    "    for t in class_names:\n",
    "\n",
    "        img_amount = class_amt_df[class_amt_df[label_name] == t].img_num.iloc[0]\n",
    "\n",
    "        if label_name == 'type':\n",
    "            if img_amount >= 5:\n",
    "                split_ratio = (0.6,0.2,0.2)\n",
    "            elif img_amount == 4:\n",
    "                split_ratio = (0.5,0.25,0.25)\n",
    "            elif img_amount == 3:\n",
    "                split_ratio = (0.33,0.33,0.33)\n",
    "            elif img_amount == 2:\n",
    "                split_ratio = (0.5,0.5,0.0)\n",
    "        elif label_name == 'family':\n",
    "            if img_amount >= 5:\n",
    "                split_ratio = (0.6,0.2,0.2)\n",
    "            elif img_amount == 4:\n",
    "                split_ratio = (0.5,0.25,0.25)\n",
    "            elif img_amount == 3:\n",
    "                split_ratio = (0.33,0.33,0.33)\n",
    "            elif img_amount == 2:\n",
    "                split_ratio = (0.5,0.5,0.0)\n",
    "\n",
    "        idx_list = list(pollen_df[pollen_df[label_name] == t].index)\n",
    "\n",
    "        train_idx = np.random.choice(idx_list, size=math.ceil(len(idx_list)*split_ratio[0]), replace=False)\n",
    "        remaining_idx = []\n",
    "        for i in idx_list:\n",
    "            if i not in train_idx:\n",
    "                remaining_idx.append(i)\n",
    "\n",
    "        val_idx = np.random.choice(remaining_idx, size=math.ceil(len(remaining_idx)*(split_ratio[1]/(1-split_ratio[0]))), replace=False)\n",
    "\n",
    "        test_idx = []\n",
    "        for i in remaining_idx:\n",
    "            if i not in val_idx:\n",
    "                test_idx.append(i)\n",
    "\n",
    "        if first_check:\n",
    "            train_data = pollen_df.loc[train_idx,['img_file', label_name]]\n",
    "            val_data = pollen_df.loc[val_idx,['img_file', label_name]]\n",
    "            test_data = pollen_df.loc[test_idx,['img_file', label_name]]\n",
    "            first_check = False\n",
    "        else:\n",
    "            train_data = pd.concat([train_data, pollen_df.loc[train_idx,['img_file', label_name]]], axis = 0)\n",
    "            val_data = pd.concat([val_data, pollen_df.loc[val_idx,['img_file', label_name]]], axis = 0)\n",
    "            test_data = pd.concat([test_data, pollen_df.loc[test_idx,['img_file', label_name]]], axis = 0)\n",
    "\n",
    "    return train_data.reset_index(drop=True), val_data.reset_index(drop=True), test_data.reset_index(drop=True)"
   ]
  },
  {
   "cell_type": "code",
   "execution_count": 12,
   "metadata": {},
   "outputs": [],
   "source": [
    "class PollenDataset(Dataset):\n",
    "    \n",
    "    def __init__(self, data, transform=None, is_family=False):\n",
    "        \n",
    "        self.transform = transform\n",
    "        self.data = data\n",
    "        if is_family:\n",
    "            self.class_names = self.data['family'].unique()\n",
    "            self.idx_to_class = {i:j for i, j in enumerate(self.class_names)}\n",
    "            self.class_to_idx = {value:key for key,value in self.idx_to_class.items()}\n",
    "        else:\n",
    "            self.class_names = self.data['type'].unique()\n",
    "            self.idx_to_class = {i:j for i, j in enumerate(self.class_names)}\n",
    "            self.class_to_idx = {value:key for key,value in self.idx_to_class.items()}\n",
    "\n",
    "    def __len__(self):\n",
    "        return len(self.data)\n",
    "\n",
    "    def __getitem__(self, idx):\n",
    "        \n",
    "        img_root = self.data.iloc[idx,0]\n",
    "        label = str(self.data.iloc[idx, 1])\n",
    "        label_num = self.class_to_idx[label]\n",
    "        \n",
    "        #img = torchvision.io.read_image(img_root)\n",
    "        img = Image.open(img_root)\n",
    "        \n",
    "        if self.transform:\n",
    "            img = self.transform(img)\n",
    "\n",
    "        return img, label_num"
   ]
  },
  {
   "cell_type": "markdown",
   "metadata": {},
   "source": [
    "## Data Analysis"
   ]
  },
  {
   "cell_type": "code",
   "execution_count": 17,
   "metadata": {},
   "outputs": [
    {
     "data": {
      "text/html": [
       "<div>\n",
       "<style scoped>\n",
       "    .dataframe tbody tr th:only-of-type {\n",
       "        vertical-align: middle;\n",
       "    }\n",
       "\n",
       "    .dataframe tbody tr th {\n",
       "        vertical-align: top;\n",
       "    }\n",
       "\n",
       "    .dataframe thead th {\n",
       "        text-align: right;\n",
       "    }\n",
       "</style>\n",
       "<table border=\"1\" class=\"dataframe\">\n",
       "  <thead>\n",
       "    <tr style=\"text-align: right;\">\n",
       "      <th></th>\n",
       "      <th>img_file</th>\n",
       "      <th>type</th>\n",
       "      <th>family</th>\n",
       "    </tr>\n",
       "  </thead>\n",
       "  <tbody>\n",
       "    <tr>\n",
       "      <th>0</th>\n",
       "      <td>/Users/mpekey/Desktop/Mert_SabanciUniv/CS518/H...</td>\n",
       "      <td>Lepidium draba</td>\n",
       "      <td>Brassicaceae</td>\n",
       "    </tr>\n",
       "    <tr>\n",
       "      <th>1</th>\n",
       "      <td>/Users/mpekey/Desktop/Mert_SabanciUniv/CS518/H...</td>\n",
       "      <td>Lepidium draba</td>\n",
       "      <td>Brassicaceae</td>\n",
       "    </tr>\n",
       "    <tr>\n",
       "      <th>2</th>\n",
       "      <td>/Users/mpekey/Desktop/Mert_SabanciUniv/CS518/H...</td>\n",
       "      <td>Lepidium draba</td>\n",
       "      <td>Brassicaceae</td>\n",
       "    </tr>\n",
       "    <tr>\n",
       "      <th>3</th>\n",
       "      <td>/Users/mpekey/Desktop/Mert_SabanciUniv/CS518/H...</td>\n",
       "      <td>Lepidium draba</td>\n",
       "      <td>Brassicaceae</td>\n",
       "    </tr>\n",
       "    <tr>\n",
       "      <th>4</th>\n",
       "      <td>/Users/mpekey/Desktop/Mert_SabanciUniv/CS518/H...</td>\n",
       "      <td>Galium verum</td>\n",
       "      <td>Rubiaceae</td>\n",
       "    </tr>\n",
       "  </tbody>\n",
       "</table>\n",
       "</div>"
      ],
      "text/plain": [
       "                                            img_file            type  \\\n",
       "0  /Users/mpekey/Desktop/Mert_SabanciUniv/CS518/H...  Lepidium draba   \n",
       "1  /Users/mpekey/Desktop/Mert_SabanciUniv/CS518/H...  Lepidium draba   \n",
       "2  /Users/mpekey/Desktop/Mert_SabanciUniv/CS518/H...  Lepidium draba   \n",
       "3  /Users/mpekey/Desktop/Mert_SabanciUniv/CS518/H...  Lepidium draba   \n",
       "4  /Users/mpekey/Desktop/Mert_SabanciUniv/CS518/H...    Galium verum   \n",
       "\n",
       "         family  \n",
       "0  Brassicaceae  \n",
       "1  Brassicaceae  \n",
       "2  Brassicaceae  \n",
       "3  Brassicaceae  \n",
       "4     Rubiaceae  "
      ]
     },
     "execution_count": 17,
     "metadata": {},
     "output_type": "execute_result"
    }
   ],
   "source": [
    "pollen_df = get_dataset_roots(DATA_ROOT)\n",
    "\n",
    "family_amt_df = pollen_df['family'].value_counts().reset_index().rename(columns={'index':'family', 'family':'img_num'})\n",
    "type_amt_df = pollen_df['type'].value_counts().reset_index().rename(columns={'index':'type', 'type':'img_num'})\n",
    "\n",
    "pollen_df.head()"
   ]
  },
  {
   "cell_type": "code",
   "execution_count": 29,
   "metadata": {},
   "outputs": [
    {
     "name": "stdout",
     "output_type": "stream",
     "text": [
      "There are 47 Pollen Family\n",
      "There are 274 Pollen Type\n"
     ]
    }
   ],
   "source": [
    "print(f'There are {family_amt_df.shape[0]} Pollen Family')\n",
    "print(f'There are {type_amt_df.shape[0]} Pollen Type')"
   ]
  },
  {
   "cell_type": "code",
   "execution_count": 31,
   "metadata": {},
   "outputs": [
    {
     "data": {
      "text/html": [
       "<div>\n",
       "<style scoped>\n",
       "    .dataframe tbody tr th:only-of-type {\n",
       "        vertical-align: middle;\n",
       "    }\n",
       "\n",
       "    .dataframe tbody tr th {\n",
       "        vertical-align: top;\n",
       "    }\n",
       "\n",
       "    .dataframe thead th {\n",
       "        text-align: right;\n",
       "    }\n",
       "</style>\n",
       "<table border=\"1\" class=\"dataframe\">\n",
       "  <thead>\n",
       "    <tr style=\"text-align: right;\">\n",
       "      <th></th>\n",
       "      <th>family</th>\n",
       "      <th>img_num</th>\n",
       "    </tr>\n",
       "  </thead>\n",
       "  <tbody>\n",
       "    <tr>\n",
       "      <th>0</th>\n",
       "      <td>Asteraceae</td>\n",
       "      <td>318</td>\n",
       "    </tr>\n",
       "    <tr>\n",
       "      <th>1</th>\n",
       "      <td>Fabaceae</td>\n",
       "      <td>307</td>\n",
       "    </tr>\n",
       "    <tr>\n",
       "      <th>2</th>\n",
       "      <td>Lamiaceae</td>\n",
       "      <td>225</td>\n",
       "    </tr>\n",
       "    <tr>\n",
       "      <th>3</th>\n",
       "      <td>Rosaceae</td>\n",
       "      <td>190</td>\n",
       "    </tr>\n",
       "    <tr>\n",
       "      <th>4</th>\n",
       "      <td>Caprifoliaceae</td>\n",
       "      <td>74</td>\n",
       "    </tr>\n",
       "  </tbody>\n",
       "</table>\n",
       "</div>"
      ],
      "text/plain": [
       "           family  img_num\n",
       "0      Asteraceae      318\n",
       "1        Fabaceae      307\n",
       "2       Lamiaceae      225\n",
       "3        Rosaceae      190\n",
       "4  Caprifoliaceae       74"
      ]
     },
     "execution_count": 31,
     "metadata": {},
     "output_type": "execute_result"
    }
   ],
   "source": [
    "family_amt_df.head()"
   ]
  },
  {
   "cell_type": "code",
   "execution_count": 33,
   "metadata": {},
   "outputs": [
    {
     "data": {
      "text/html": [
       "<div>\n",
       "<style scoped>\n",
       "    .dataframe tbody tr th:only-of-type {\n",
       "        vertical-align: middle;\n",
       "    }\n",
       "\n",
       "    .dataframe tbody tr th {\n",
       "        vertical-align: top;\n",
       "    }\n",
       "\n",
       "    .dataframe thead th {\n",
       "        text-align: right;\n",
       "    }\n",
       "</style>\n",
       "<table border=\"1\" class=\"dataframe\">\n",
       "  <thead>\n",
       "    <tr style=\"text-align: right;\">\n",
       "      <th></th>\n",
       "      <th>type</th>\n",
       "      <th>img_num</th>\n",
       "    </tr>\n",
       "  </thead>\n",
       "  <tbody>\n",
       "    <tr>\n",
       "      <th>268</th>\n",
       "      <td>Saponaria viscosa</td>\n",
       "      <td>2</td>\n",
       "    </tr>\n",
       "    <tr>\n",
       "      <th>269</th>\n",
       "      <td>Lathyrus sp</td>\n",
       "      <td>2</td>\n",
       "    </tr>\n",
       "    <tr>\n",
       "      <th>270</th>\n",
       "      <td>Hypericum sp</td>\n",
       "      <td>2</td>\n",
       "    </tr>\n",
       "    <tr>\n",
       "      <th>271</th>\n",
       "      <td>Anchusa sp</td>\n",
       "      <td>2</td>\n",
       "    </tr>\n",
       "    <tr>\n",
       "      <th>272</th>\n",
       "      <td>Silene compacta</td>\n",
       "      <td>2</td>\n",
       "    </tr>\n",
       "    <tr>\n",
       "      <th>273</th>\n",
       "      <td>Onobrychis viciifolia</td>\n",
       "      <td>2</td>\n",
       "    </tr>\n",
       "  </tbody>\n",
       "</table>\n",
       "</div>"
      ],
      "text/plain": [
       "                      type  img_num\n",
       "268      Saponaria viscosa        2\n",
       "269            Lathyrus sp        2\n",
       "270           Hypericum sp        2\n",
       "271             Anchusa sp        2\n",
       "272        Silene compacta        2\n",
       "273  Onobrychis viciifolia        2"
      ]
     },
     "execution_count": 33,
     "metadata": {},
     "output_type": "execute_result"
    }
   ],
   "source": [
    "type_amt_df[type_amt_df['img_num'] == 2]"
   ]
  },
  {
   "cell_type": "code",
   "execution_count": 28,
   "metadata": {},
   "outputs": [
    {
     "data": {
      "image/png": "[encoded data removed]",
      "text/plain": [
       "<Figure size 1080x360 with 2 Axes>"
      ]
     },
     "metadata": {
      "needs_background": "light"
     },
     "output_type": "display_data"
    }
   ],
   "source": [
    "fig, ax = plt.subplots(nrows=1, ncols=2, figsize=(15,5))\n",
    "\n",
    "sns.barplot(x = 'family', y = 'img_num',data = family_amt_df, ax=ax[0])\n",
    "sns.barplot(x = 'type', y = 'img_num',data = type_amt_df, ax=ax[1])\n",
    "ax[0].set(title = 'Pollen Family Distribution')\n",
    "ax[0].tick_params(labelrotation=90)\n",
    "ax[1].set(title = 'Pollen Type Distribution')\n",
    "ax[1].set(xticklabels=[])\n",
    "plt.show()"
   ]
  },
  {
   "cell_type": "code",
   "execution_count": 27,
   "metadata": {},
   "outputs": [
    {
     "data": {
      "image/png": "[encoded data removed]",
      "text/plain": [
       "<Figure size 1080x360 with 2 Axes>"
      ]
     },
     "metadata": {
      "needs_background": "light"
     },
     "output_type": "display_data"
    }
   ],
   "source": [
    "fig, ax = plt.subplots(nrows=1, ncols=2, figsize=(15,5))\n",
    "\n",
    "sns.barplot(x = 'family', y = 'img_num',data = family_amt_df.iloc[:20], ax=ax[0])\n",
    "sns.barplot(x = 'type', y = 'img_num',data = type_amt_df.iloc[:20], ax=ax[1])\n",
    "ax[0].set(title = 'Pollen Family Distribution (The Most 20 Class)')\n",
    "ax[0].tick_params(labelrotation=90)\n",
    "ax[1].set(title = 'Pollen Type Distribution (The Most 20 Class)')\n",
    "ax[1].tick_params(labelrotation=90)\n",
    "plt.show()"
   ]
  },
  {
   "attachments": {},
   "cell_type": "markdown",
   "metadata": {},
   "source": [
    "Resize Original Images"
   ]
  },
  {
   "cell_type": "code",
   "execution_count": 2,
   "metadata": {},
   "outputs": [],
   "source": [
    "from PIL import Image\n",
    "import os, sys\n",
    "\n",
    "DATA_ROOT = '/Users/mpekey/Desktop/Mert_SabanciUniv/CS518/HoneyPollenClassification/dataset/'\n",
    "dirs = os.listdir(DATA_ROOT)"
   ]
  },
  {
   "cell_type": "code",
   "execution_count": 6,
   "metadata": {},
   "outputs": [],
   "source": [
    "from PIL import Image\n",
    "import os, sys\n",
    "\n",
    "DATA_ROOT = '/Users/mpekey/Desktop/Mert_SabanciUniv/CS518/HoneyPollenClassification/dataset/'\n",
    "NEW_ROOT = '/Users/mpekey/Desktop/Mert_SabanciUniv/CS518/HoneyPollenClassification/dataset_resized/'\n",
    "dirs = os.listdir(DATA_ROOT)\n",
    "\n",
    "def resize():\n",
    "    for item in dirs:\n",
    "        if os.path.join(DATA_ROOT,item) != '/Users/mpekey/Desktop/Mert_SabanciUniv/CS518/HoneyPollenClassification/dataset/.DS_Store':\n",
    "            class_dirs = os.listdir(os.path.join(DATA_ROOT,item))\n",
    "        if not os.path.exists(os.path.join(NEW_ROOT,item)):\n",
    "            os.makedirs(os.path.join(NEW_ROOT,item))\n",
    "        for img in class_dirs:\n",
    "            if os.path.isfile(os.path.join(DATA_ROOT,item,img)):\n",
    "                im = Image.open(os.path.join(DATA_ROOT,item,img))\n",
    "                imResize = im.resize((256,256), Image.LANCZOS)\n",
    "                imResize.save(os.path.join(NEW_ROOT,item,img), 'JPEG')\n",
    "\n",
    "resize()"
   ]
  }
 ],
 "metadata": {
  "kernelspec": {
   "display_name": "Python 3",
   "language": "python",
   "name": "python3"
  },
  "language_info": {
   "codemirror_mode": {
    "name": "ipython",
    "version": 3
   },
   "file_extension": ".py",
   "mimetype": "text/x-python",
   "name": "python",
   "nbconvert_exporter": "python",
   "pygments_lexer": "ipython3",
   "version": "3.9.0 (v3.9.0:9cf6752276, Oct  5 2020, 11:29:23) \n[Clang 6.0 (clang-600.0.57)]"
  },
  "vscode": {
   "interpreter": {
    "hash": "aee8b7b246df8f9039afb4144a1f6fd8d2ca17a180786b69acc140d282b71a49"
   }
  }
 },
 "nbformat": 4,
 "nbformat_minor": 4
}
